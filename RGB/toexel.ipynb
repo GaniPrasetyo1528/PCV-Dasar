{
 "cells": [
  {
   "cell_type": "code",
   "execution_count": 9,
   "id": "42bb2745",
   "metadata": {},
   "outputs": [
    {
     "name": "stdout",
     "output_type": "stream",
     "text": [
      "Contoh isi matrix RGB (baris pertama):\n",
      "['228,236,238', '228,236,238', '228,236,239', '228,236,239', '228,236,239', '228,236,239', '228,236,239', '228,236,239', '228,236,239', '228,236,239']\n",
      "\n",
      "Contoh isi matrix RGB (baris kedua):\n",
      "['228,236,238', '228,236,238', '228,236,239', '228,236,239', '228,236,239', '228,236,239', '228,236,239', '228,236,239', '228,236,239', '228,236,239']\n",
      "\n",
      "Matrix berhasil disimpan ke 'pixel_matrix_rgb.xlsx'\n"
     ]
    }
   ],
   "source": [
    "import cv2\n",
    "import numpy as np\n",
    "import pandas as pd\n",
    "import matplotlib.pyplot as plt\n",
    "\n",
    "img = cv2.imread('../IMG/musclecars.jpg')\n",
    "img_rgb = cv2.cvtColor(img, cv2.COLOR_BGR2RGB)\n",
    "\n",
    "# Mendapatkan ukuran gambar dan menyimpan ukuran menggunakan variabel hight, width dan _\n",
    "# Disini hight = tinggi, width = lebar, _ = jumlah channel warna (RGB)\n",
    "# img_rgb.shape mengembalikan nilai (tinggi, lebar, jumlah_channel)\n",
    "# nah jumlah channel sendiri adalah hasil dari 3 (R, G, B) yaitu hasil dari citra berwarna (variabel img_rgb) \n",
    "height, width, _ = img_rgb.shape\n",
    "\n",
    "# Variabel matrix array kosong untuk menyimpan data pixel\n",
    "matrix = []\n",
    "\n",
    "# Loop baris demi baris\n",
    "for y in range(height):        # untuk setiap baris\n",
    "    row_data = []              # list kosong untuk 1 baris\n",
    "    for x in range(width):     # untuk setiap kolom\n",
    "        r, g, b = img_rgb[y, x]          # ambil nilai RGB\n",
    "        row_data.append(f\"{r},{g},{b}\")  # simpan ke baris dalam format teks\n",
    "    matrix.append(row_data)    # simpan baris ke matrix utama\n",
    "\n",
    "# Print beberapa baris pertama (biar tidak kepanjangan)\n",
    "print(\"Contoh isi matrix RGB (baris pertama):\")\n",
    "print(matrix[0][:10])   # print 10 kolom pertama dari baris 0\n",
    "\n",
    "print(\"\\nContoh isi matrix RGB (baris kedua):\")\n",
    "print(matrix[1][:10])   # print 10 kolom pertama dari baris 1\n",
    "\n",
    "# Konversi list jadi DataFrame\n",
    "df = pd.DataFrame(matrix)\n",
    "\n",
    "# Simpan ke Excel\n",
    "df.to_excel(\"pixel_matrix_rgb.xlsx\", index=False, header=False)\n",
    "print(\"\\nMatrix berhasil disimpan ke 'pixel_matrix_rgb.xlsx'\")\n"
   ]
  }
 ],
 "metadata": {
  "kernelspec": {
   "display_name": "Python 3",
   "language": "python",
   "name": "python3"
  },
  "language_info": {
   "codemirror_mode": {
    "name": "ipython",
    "version": 3
   },
   "file_extension": ".py",
   "mimetype": "text/x-python",
   "name": "python",
   "nbconvert_exporter": "python",
   "pygments_lexer": "ipython3",
   "version": "3.13.7"
  }
 },
 "nbformat": 4,
 "nbformat_minor": 5
}
